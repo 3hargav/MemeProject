{
  "nbformat": 4,
  "nbformat_minor": 0,
  "metadata": {
    "colab": {
      "name": "SolarModelLSTM.ipynb",
      "provenance": [],
      "include_colab_link": true
    },
    "kernelspec": {
      "name": "python3",
      "display_name": "Python 3"
    }
  },
  "cells": [
    {
      "cell_type": "markdown",
      "metadata": {
        "id": "view-in-github",
        "colab_type": "text"
      },
      "source": [
        "<a href=\"https://colab.research.google.com/github/erily12/MemeProject/blob/master/SolarModelLSTM.ipynb\" target=\"_parent\"><img src=\"https://colab.research.google.com/assets/colab-badge.svg\" alt=\"Open In Colab\"/></a>"
      ]
    },
    {
      "cell_type": "code",
      "metadata": {
        "id": "w7RzVYqPP_Zn",
        "colab_type": "code",
        "colab": {}
      },
      "source": [
        "%tensorflow_version 2.x\n",
        "import tensorflow as tf\n",
        "print(tf.__version__)"
      ],
      "execution_count": 0,
      "outputs": []
    },
    {
      "cell_type": "code",
      "metadata": {
        "id": "MuS27xYhRuWw",
        "colab_type": "code",
        "outputId": "cbd93af2-065b-40d0-f095-885825277742",
        "colab": {
          "base_uri": "https://localhost:8080/",
          "height": 459
        }
      },
      "source": [
        "!pip install keras\n",
        "!pip install -U scikit-learn\n",
        "!pip install seaborn"
      ],
      "execution_count": 0,
      "outputs": [
        {
          "output_type": "stream",
          "text": [
            "Requirement already satisfied: keras in /usr/local/lib/python3.6/dist-packages (2.2.5)\n",
            "Requirement already satisfied: six>=1.9.0 in /tensorflow-2.0.0/python3.6 (from keras) (1.13.0)\n",
            "Requirement already satisfied: numpy>=1.9.1 in /tensorflow-2.0.0/python3.6 (from keras) (1.17.4)\n",
            "Requirement already satisfied: h5py in /tensorflow-2.0.0/python3.6 (from keras) (2.10.0)\n",
            "Requirement already satisfied: keras-applications>=1.0.8 in /tensorflow-2.0.0/python3.6 (from keras) (1.0.8)\n",
            "Requirement already satisfied: scipy>=0.14 in /usr/local/lib/python3.6/dist-packages (from keras) (1.3.2)\n",
            "Requirement already satisfied: keras-preprocessing>=1.1.0 in /tensorflow-2.0.0/python3.6 (from keras) (1.1.0)\n",
            "Requirement already satisfied: pyyaml in /usr/local/lib/python3.6/dist-packages (from keras) (3.13)\n",
            "Requirement already up-to-date: scikit-learn in /usr/local/lib/python3.6/dist-packages (0.21.3)\n",
            "Requirement already satisfied, skipping upgrade: joblib>=0.11 in /usr/local/lib/python3.6/dist-packages (from scikit-learn) (0.14.0)\n",
            "Requirement already satisfied, skipping upgrade: numpy>=1.11.0 in /tensorflow-2.0.0/python3.6 (from scikit-learn) (1.17.4)\n",
            "Requirement already satisfied, skipping upgrade: scipy>=0.17.0 in /usr/local/lib/python3.6/dist-packages (from scikit-learn) (1.3.2)\n",
            "Requirement already satisfied: seaborn in /usr/local/lib/python3.6/dist-packages (0.9.0)\n",
            "Requirement already satisfied: pandas>=0.15.2 in /usr/local/lib/python3.6/dist-packages (from seaborn) (0.25.3)\n",
            "Requirement already satisfied: numpy>=1.9.3 in /tensorflow-2.0.0/python3.6 (from seaborn) (1.17.4)\n",
            "Requirement already satisfied: matplotlib>=1.4.3 in /usr/local/lib/python3.6/dist-packages (from seaborn) (3.1.1)\n",
            "Requirement already satisfied: scipy>=0.14.0 in /usr/local/lib/python3.6/dist-packages (from seaborn) (1.3.2)\n",
            "Requirement already satisfied: pytz>=2017.2 in /usr/local/lib/python3.6/dist-packages (from pandas>=0.15.2->seaborn) (2018.9)\n",
            "Requirement already satisfied: python-dateutil>=2.6.1 in /usr/local/lib/python3.6/dist-packages (from pandas>=0.15.2->seaborn) (2.6.1)\n",
            "Requirement already satisfied: pyparsing!=2.0.4,!=2.1.2,!=2.1.6,>=2.0.1 in /usr/local/lib/python3.6/dist-packages (from matplotlib>=1.4.3->seaborn) (2.4.5)\n",
            "Requirement already satisfied: cycler>=0.10 in /usr/local/lib/python3.6/dist-packages (from matplotlib>=1.4.3->seaborn) (0.10.0)\n",
            "Requirement already satisfied: kiwisolver>=1.0.1 in /usr/local/lib/python3.6/dist-packages (from matplotlib>=1.4.3->seaborn) (1.1.0)\n",
            "Requirement already satisfied: six>=1.5 in /tensorflow-2.0.0/python3.6 (from python-dateutil>=2.6.1->pandas>=0.15.2->seaborn) (1.13.0)\n",
            "Requirement already satisfied: setuptools in /tensorflow-2.0.0/python3.6 (from kiwisolver>=1.0.1->matplotlib>=1.4.3->seaborn) (41.6.0)\n"
          ],
          "name": "stdout"
        }
      ]
    },
    {
      "cell_type": "code",
      "metadata": {
        "id": "dGQUVpxnghbU",
        "colab_type": "code",
        "colab": {}
      },
      "source": [
        "import pandas as pd\n",
        "import numpy as np\n",
        "import seaborn as sns\n",
        "import matplotlib.pyplot as plt\n",
        "%matplotlib inline\n",
        "#import keras\n",
        "\n",
        "plt.style.use('fivethirtyeight')"
      ],
      "execution_count": 0,
      "outputs": []
    },
    {
      "cell_type": "code",
      "metadata": {
        "id": "Y-Tl20WXTpeL",
        "colab_type": "code",
        "outputId": "ead73568-9f81-4adc-9816-488d3a2f7417",
        "colab": {
          "base_uri": "https://localhost:8080/",
          "height": 34
        }
      },
      "source": [
        "from google.colab import drive\n",
        "drive.mount('/content/drive')"
      ],
      "execution_count": 0,
      "outputs": [
        {
          "output_type": "stream",
          "text": [
            "Drive already mounted at /content/drive; to attempt to forcibly remount, call drive.mount(\"/content/drive\", force_remount=True).\n"
          ],
          "name": "stdout"
        }
      ]
    },
    {
      "cell_type": "markdown",
      "metadata": {
        "id": "kyOGsFhI3jeY",
        "colab_type": "text"
      },
      "source": [
        "## **Importing The Dataset**"
      ]
    },
    {
      "cell_type": "code",
      "metadata": {
        "id": "kJjIAVUeqMvZ",
        "colab_type": "code",
        "outputId": "8126d576-2d19-4b58-def3-49fd79f62249",
        "colab": {
          "base_uri": "https://localhost:8080/",
          "height": 279
        }
      },
      "source": [
        "dataset = pd.read_csv('/SolarPrediction.csv')\n",
        "dataset = dataset.sort_values(['UNIXTime'], ascending = [True])\n",
        "dataset.head()"
      ],
      "execution_count": 0,
      "outputs": [
        {
          "output_type": "execute_result",
          "data": {
            "text/html": [
              "<div>\n",
              "<style scoped>\n",
              "    .dataframe tbody tr th:only-of-type {\n",
              "        vertical-align: middle;\n",
              "    }\n",
              "\n",
              "    .dataframe tbody tr th {\n",
              "        vertical-align: top;\n",
              "    }\n",
              "\n",
              "    .dataframe thead th {\n",
              "        text-align: right;\n",
              "    }\n",
              "</style>\n",
              "<table border=\"1\" class=\"dataframe\">\n",
              "  <thead>\n",
              "    <tr style=\"text-align: right;\">\n",
              "      <th></th>\n",
              "      <th>UNIXTime</th>\n",
              "      <th>Data</th>\n",
              "      <th>Time</th>\n",
              "      <th>Radiation</th>\n",
              "      <th>Temperature</th>\n",
              "      <th>Pressure</th>\n",
              "      <th>Humidity</th>\n",
              "      <th>WindDirection(Degrees)</th>\n",
              "      <th>Speed</th>\n",
              "      <th>TimeSunRise</th>\n",
              "      <th>TimeSunSet</th>\n",
              "    </tr>\n",
              "  </thead>\n",
              "  <tbody>\n",
              "    <tr>\n",
              "      <th>7416</th>\n",
              "      <td>1472724008</td>\n",
              "      <td>9/1/2016 12:00:00 AM</td>\n",
              "      <td>00:00:08</td>\n",
              "      <td>2.58</td>\n",
              "      <td>51</td>\n",
              "      <td>30.43</td>\n",
              "      <td>103</td>\n",
              "      <td>77.27</td>\n",
              "      <td>11.25</td>\n",
              "      <td>06:07:00</td>\n",
              "      <td>18:38:00</td>\n",
              "    </tr>\n",
              "    <tr>\n",
              "      <th>7415</th>\n",
              "      <td>1472724310</td>\n",
              "      <td>9/1/2016 12:00:00 AM</td>\n",
              "      <td>00:05:10</td>\n",
              "      <td>2.83</td>\n",
              "      <td>51</td>\n",
              "      <td>30.43</td>\n",
              "      <td>103</td>\n",
              "      <td>153.44</td>\n",
              "      <td>9.00</td>\n",
              "      <td>06:07:00</td>\n",
              "      <td>18:38:00</td>\n",
              "    </tr>\n",
              "    <tr>\n",
              "      <th>7414</th>\n",
              "      <td>1472725206</td>\n",
              "      <td>9/1/2016 12:00:00 AM</td>\n",
              "      <td>00:20:06</td>\n",
              "      <td>2.16</td>\n",
              "      <td>51</td>\n",
              "      <td>30.43</td>\n",
              "      <td>103</td>\n",
              "      <td>142.04</td>\n",
              "      <td>7.87</td>\n",
              "      <td>06:07:00</td>\n",
              "      <td>18:38:00</td>\n",
              "    </tr>\n",
              "    <tr>\n",
              "      <th>7413</th>\n",
              "      <td>1472725505</td>\n",
              "      <td>9/1/2016 12:00:00 AM</td>\n",
              "      <td>00:25:05</td>\n",
              "      <td>2.21</td>\n",
              "      <td>51</td>\n",
              "      <td>30.43</td>\n",
              "      <td>103</td>\n",
              "      <td>144.12</td>\n",
              "      <td>18.00</td>\n",
              "      <td>06:07:00</td>\n",
              "      <td>18:38:00</td>\n",
              "    </tr>\n",
              "    <tr>\n",
              "      <th>7412</th>\n",
              "      <td>1472725809</td>\n",
              "      <td>9/1/2016 12:00:00 AM</td>\n",
              "      <td>00:30:09</td>\n",
              "      <td>2.25</td>\n",
              "      <td>51</td>\n",
              "      <td>30.43</td>\n",
              "      <td>103</td>\n",
              "      <td>67.42</td>\n",
              "      <td>11.25</td>\n",
              "      <td>06:07:00</td>\n",
              "      <td>18:38:00</td>\n",
              "    </tr>\n",
              "  </tbody>\n",
              "</table>\n",
              "</div>"
            ],
            "text/plain": [
              "        UNIXTime                  Data      Time  ...  Speed  TimeSunRise  TimeSunSet\n",
              "7416  1472724008  9/1/2016 12:00:00 AM  00:00:08  ...  11.25     06:07:00    18:38:00\n",
              "7415  1472724310  9/1/2016 12:00:00 AM  00:05:10  ...   9.00     06:07:00    18:38:00\n",
              "7414  1472725206  9/1/2016 12:00:00 AM  00:20:06  ...   7.87     06:07:00    18:38:00\n",
              "7413  1472725505  9/1/2016 12:00:00 AM  00:25:05  ...  18.00     06:07:00    18:38:00\n",
              "7412  1472725809  9/1/2016 12:00:00 AM  00:30:09  ...  11.25     06:07:00    18:38:00\n",
              "\n",
              "[5 rows x 11 columns]"
            ]
          },
          "metadata": {
            "tags": []
          },
          "execution_count": 17
        }
      ]
    },
    {
      "cell_type": "markdown",
      "metadata": {
        "id": "l4r8Wzrx2FSS",
        "colab_type": "text"
      },
      "source": [
        "## **Feature Engineering**\n",
        "First step upon importing the dataset was to convert time and date parameters into a more useful format and add some coloumns that may be useful for visualisation, modelling and analysis."
      ]
    },
    {
      "cell_type": "code",
      "metadata": {
        "id": "2s8IduFq2Drg",
        "colab_type": "code",
        "outputId": "4267b5dd-26df-4472-9e4f-a6c67542e1fc",
        "colab": {
          "base_uri": "https://localhost:8080/",
          "height": 497
        }
      },
      "source": [
        "from datetime import datetime\n",
        "from pytz import timezone\n",
        "import pytz\n",
        "hawaii= timezone('Pacific/Honolulu')\n",
        "dataset.index =  pd.to_datetime(dataset['UNIXTime'], unit='s')\n",
        "dataset.index = dataset.index.tz_localize(pytz.utc).tz_convert(hawaii)\n",
        "dataset['MonthOfYear'] = dataset.index.strftime('%m').astype(int)\n",
        "dataset['DayOfYear'] = dataset.index.strftime('%j').astype(int)\n",
        "dataset['WeekOfYear'] = dataset.index.strftime('%U').astype(int)\n",
        "dataset['TimeOfDay(h)'] = dataset.index.hour\n",
        "dataset['TimeOfDay(m)'] = dataset.index.hour*60 + dataset.index.minute\n",
        "dataset['TimeOfDay(s)'] = dataset.index.hour*60*60 + dataset.index.minute*60 + dataset.index.second\n",
        "dataset['TimeSunRise'] = pd.to_datetime(dataset['TimeSunRise'], format='%H:%M:%S')\n",
        "dataset['TimeSunSet'] = pd.to_datetime(dataset['TimeSunSet'], format='%H:%M:%S')\n",
        "dataset['DayLength(s)'] = dataset['TimeSunSet'].dt.hour*60*60 \\\n",
        "                           + dataset['TimeSunSet'].dt.minute*60 \\\n",
        "                           + dataset['TimeSunSet'].dt.second \\\n",
        "                           - dataset['TimeSunRise'].dt.hour*60*60 \\\n",
        "                           - dataset['TimeSunRise'].dt.minute*60 \\\n",
        "                           - dataset['TimeSunRise'].dt.second\n",
        "dataset.drop(['Data','Time','TimeSunRise','TimeSunSet'], inplace=True, axis=1)\n",
        "dataset.head()"
      ],
      "execution_count": 0,
      "outputs": [
        {
          "output_type": "execute_result",
          "data": {
            "text/html": [
              "<div>\n",
              "<style scoped>\n",
              "    .dataframe tbody tr th:only-of-type {\n",
              "        vertical-align: middle;\n",
              "    }\n",
              "\n",
              "    .dataframe tbody tr th {\n",
              "        vertical-align: top;\n",
              "    }\n",
              "\n",
              "    .dataframe thead th {\n",
              "        text-align: right;\n",
              "    }\n",
              "</style>\n",
              "<table border=\"1\" class=\"dataframe\">\n",
              "  <thead>\n",
              "    <tr style=\"text-align: right;\">\n",
              "      <th></th>\n",
              "      <th>UNIXTime</th>\n",
              "      <th>Radiation</th>\n",
              "      <th>Temperature</th>\n",
              "      <th>Pressure</th>\n",
              "      <th>Humidity</th>\n",
              "      <th>WindDirection(Degrees)</th>\n",
              "      <th>Speed</th>\n",
              "      <th>MonthOfYear</th>\n",
              "      <th>DayOfYear</th>\n",
              "      <th>WeekOfYear</th>\n",
              "      <th>TimeOfDay(h)</th>\n",
              "      <th>TimeOfDay(m)</th>\n",
              "      <th>TimeOfDay(s)</th>\n",
              "      <th>DayLength(s)</th>\n",
              "    </tr>\n",
              "    <tr>\n",
              "      <th>UNIXTime</th>\n",
              "      <th></th>\n",
              "      <th></th>\n",
              "      <th></th>\n",
              "      <th></th>\n",
              "      <th></th>\n",
              "      <th></th>\n",
              "      <th></th>\n",
              "      <th></th>\n",
              "      <th></th>\n",
              "      <th></th>\n",
              "      <th></th>\n",
              "      <th></th>\n",
              "      <th></th>\n",
              "      <th></th>\n",
              "    </tr>\n",
              "  </thead>\n",
              "  <tbody>\n",
              "    <tr>\n",
              "      <th>2016-09-01 00:00:08-10:00</th>\n",
              "      <td>1472724008</td>\n",
              "      <td>2.58</td>\n",
              "      <td>51</td>\n",
              "      <td>30.43</td>\n",
              "      <td>103</td>\n",
              "      <td>77.27</td>\n",
              "      <td>11.25</td>\n",
              "      <td>9</td>\n",
              "      <td>245</td>\n",
              "      <td>35</td>\n",
              "      <td>0</td>\n",
              "      <td>0</td>\n",
              "      <td>8</td>\n",
              "      <td>45060</td>\n",
              "    </tr>\n",
              "    <tr>\n",
              "      <th>2016-09-01 00:05:10-10:00</th>\n",
              "      <td>1472724310</td>\n",
              "      <td>2.83</td>\n",
              "      <td>51</td>\n",
              "      <td>30.43</td>\n",
              "      <td>103</td>\n",
              "      <td>153.44</td>\n",
              "      <td>9.00</td>\n",
              "      <td>9</td>\n",
              "      <td>245</td>\n",
              "      <td>35</td>\n",
              "      <td>0</td>\n",
              "      <td>5</td>\n",
              "      <td>310</td>\n",
              "      <td>45060</td>\n",
              "    </tr>\n",
              "    <tr>\n",
              "      <th>2016-09-01 00:20:06-10:00</th>\n",
              "      <td>1472725206</td>\n",
              "      <td>2.16</td>\n",
              "      <td>51</td>\n",
              "      <td>30.43</td>\n",
              "      <td>103</td>\n",
              "      <td>142.04</td>\n",
              "      <td>7.87</td>\n",
              "      <td>9</td>\n",
              "      <td>245</td>\n",
              "      <td>35</td>\n",
              "      <td>0</td>\n",
              "      <td>20</td>\n",
              "      <td>1206</td>\n",
              "      <td>45060</td>\n",
              "    </tr>\n",
              "    <tr>\n",
              "      <th>2016-09-01 00:25:05-10:00</th>\n",
              "      <td>1472725505</td>\n",
              "      <td>2.21</td>\n",
              "      <td>51</td>\n",
              "      <td>30.43</td>\n",
              "      <td>103</td>\n",
              "      <td>144.12</td>\n",
              "      <td>18.00</td>\n",
              "      <td>9</td>\n",
              "      <td>245</td>\n",
              "      <td>35</td>\n",
              "      <td>0</td>\n",
              "      <td>25</td>\n",
              "      <td>1505</td>\n",
              "      <td>45060</td>\n",
              "    </tr>\n",
              "    <tr>\n",
              "      <th>2016-09-01 00:30:09-10:00</th>\n",
              "      <td>1472725809</td>\n",
              "      <td>2.25</td>\n",
              "      <td>51</td>\n",
              "      <td>30.43</td>\n",
              "      <td>103</td>\n",
              "      <td>67.42</td>\n",
              "      <td>11.25</td>\n",
              "      <td>9</td>\n",
              "      <td>245</td>\n",
              "      <td>35</td>\n",
              "      <td>0</td>\n",
              "      <td>30</td>\n",
              "      <td>1809</td>\n",
              "      <td>45060</td>\n",
              "    </tr>\n",
              "  </tbody>\n",
              "</table>\n",
              "</div>"
            ],
            "text/plain": [
              "                             UNIXTime  Radiation  ...  TimeOfDay(s)  DayLength(s)\n",
              "UNIXTime                                          ...                            \n",
              "2016-09-01 00:00:08-10:00  1472724008       2.58  ...             8         45060\n",
              "2016-09-01 00:05:10-10:00  1472724310       2.83  ...           310         45060\n",
              "2016-09-01 00:20:06-10:00  1472725206       2.16  ...          1206         45060\n",
              "2016-09-01 00:25:05-10:00  1472725505       2.21  ...          1505         45060\n",
              "2016-09-01 00:30:09-10:00  1472725809       2.25  ...          1809         45060\n",
              "\n",
              "[5 rows x 14 columns]"
            ]
          },
          "metadata": {
            "tags": []
          },
          "execution_count": 18
        }
      ]
    },
    {
      "cell_type": "markdown",
      "metadata": {
        "id": "-K4VVjXw2VUR",
        "colab_type": "text"
      },
      "source": [
        "## **Feature Visualisation**\n",
        "Next, in order to get a better understanding of the data, hourly and monthly means of several variables were visualised using bar plots."
      ]
    },
    {
      "cell_type": "code",
      "metadata": {
        "id": "h5icVLqt2Qd3",
        "colab_type": "code",
        "outputId": "db91473f-f36b-45c1-f044-906019ffb023",
        "colab": {
          "base_uri": "https://localhost:8080/",
          "height": 791
        }
      },
      "source": [
        "grouped_m=dataset.groupby('MonthOfYear').mean().reset_index()\n",
        "grouped_w=dataset.groupby('WeekOfYear').mean().reset_index()\n",
        "grouped_d=dataset.groupby('DayOfYear').mean().reset_index()\n",
        "grouped_h=dataset.groupby('TimeOfDay(h)').mean().reset_index()\n",
        "\n",
        "f, ((ax1, ax2), (ax3, ax4), (ax5, ax6), (ax7, ax8)) = plt.subplots(4, 2, sharex='col', sharey='row', figsize=(14,12))\n",
        "ax3.set_ylim(45,60)\n",
        "ax5.set_ylim(30.36,30.46)\n",
        "ax7.set_ylim(60,85)\n",
        "\n",
        "ax1.set_title('Mean Radiation by Hour')\n",
        "pal = sns.color_palette(\"YlOrRd_r\", len(grouped_h))\n",
        "rank = grouped_h['Radiation'].argsort().argsort() \n",
        "g = sns.barplot(x=\"TimeOfDay(h)\", y='Radiation', data=grouped_h, palette=np.array(pal[::-1])[rank], ax=ax1)\n",
        "ax1.set_xlabel('')\n",
        "\n",
        "ax2.set_title('Mean Radiation by Month')\n",
        "pal = sns.color_palette(\"YlOrRd_r\", len(grouped_m))\n",
        "rank = grouped_m['Radiation'].argsort().argsort() \n",
        "g = sns.barplot(x=\"MonthOfYear\", y='Radiation', data=grouped_m, palette=np.array(pal[::-1])[rank], ax=ax2)\n",
        "ax2.set_xlabel('')\n",
        "\n",
        "ax3.set_title('Mean Temperature by Hour')\n",
        "pal = sns.color_palette(\"YlOrRd_r\", len(grouped_h))\n",
        "rank = grouped_h['Temperature'].argsort().argsort() \n",
        "g = sns.barplot(x=\"TimeOfDay(h)\", y='Temperature', data=grouped_h, palette=np.array(pal[::-1])[rank], ax=ax3)\n",
        "ax3.set_xlabel('')\n",
        "\n",
        "ax4.set_title('Mean Temperature by Month')\n",
        "pal = sns.color_palette(\"YlOrRd_r\", len(grouped_m))\n",
        "rank = grouped_m['Temperature'].argsort().argsort() \n",
        "g = sns.barplot(x=\"MonthOfYear\", y='Temperature', data=grouped_m, palette=np.array(pal[::-1])[rank], ax=ax4)\n",
        "ax4.set_xlabel('')\n",
        "\n",
        "ax5.set_title('Mean Pressure by Hour')\n",
        "pal = sns.color_palette(\"YlOrRd_r\", len(grouped_h))\n",
        "rank = grouped_h['Pressure'].argsort().argsort() \n",
        "g = sns.barplot(x=\"TimeOfDay(h)\", y='Pressure', data=grouped_h, palette=np.array(pal[::-1])[rank], ax=ax5)\n",
        "ax5.set_xlabel('')\n",
        "\n",
        "ax6.set_title('Mean Pressure by Month')\n",
        "pal = sns.color_palette(\"YlOrRd_r\", len(grouped_m))\n",
        "rank = grouped_m['Pressure'].argsort().argsort() \n",
        "g = sns.barplot(x=\"MonthOfYear\", y='Pressure', data=grouped_m, palette=np.array(pal[::-1])[rank], ax=ax6)\n",
        "ax6.set_xlabel('')\n",
        "\n",
        "ax7.set_title('Mean Humidity by Hour')\n",
        "pal = sns.color_palette(\"YlOrRd_r\", len(grouped_h))\n",
        "rank = grouped_h['Humidity'].argsort().argsort() \n",
        "g = sns.barplot(x=\"TimeOfDay(h)\", y='Humidity', data=grouped_h, palette=np.array(pal[::-1])[rank], ax=ax7)\n",
        "\n",
        "ax8.set_title('Mean Humidity by Month')\n",
        "pal = sns.color_palette(\"YlOrRd_r\", len(grouped_m))\n",
        "rank = grouped_m['Humidity'].argsort().argsort() \n",
        "g = sns.barplot(x=\"MonthOfYear\", y='Humidity', data=grouped_m, palette=np.array(pal[::-1])[rank], ax=ax8)\n",
        "\n",
        "plt.show()"
      ],
      "execution_count": 0,
      "outputs": [
        {
          "output_type": "display_data",
          "data": {
            "image/png": "[encoded data removed]",
            "text/plain": [
              "<Figure size 1008x864 with 8 Axes>"
            ]
          },
          "metadata": {
            "tags": []
          }
        }
      ]
    },
    {
      "cell_type": "code",
      "metadata": {
        "id": "O4RWiPy35ghT",
        "colab_type": "code",
        "outputId": "6e20f1f7-81cc-4d6c-97e8-d212d28ac9bd",
        "colab": {
          "base_uri": "https://localhost:8080/",
          "height": 497
        }
      },
      "source": [
        "dataset.head()"
      ],
      "execution_count": 0,
      "outputs": [
        {
          "output_type": "execute_result",
          "data": {
            "text/html": [
              "<div>\n",
              "<style scoped>\n",
              "    .dataframe tbody tr th:only-of-type {\n",
              "        vertical-align: middle;\n",
              "    }\n",
              "\n",
              "    .dataframe tbody tr th {\n",
              "        vertical-align: top;\n",
              "    }\n",
              "\n",
              "    .dataframe thead th {\n",
              "        text-align: right;\n",
              "    }\n",
              "</style>\n",
              "<table border=\"1\" class=\"dataframe\">\n",
              "  <thead>\n",
              "    <tr style=\"text-align: right;\">\n",
              "      <th></th>\n",
              "      <th>UNIXTime</th>\n",
              "      <th>Radiation</th>\n",
              "      <th>Temperature</th>\n",
              "      <th>Pressure</th>\n",
              "      <th>Humidity</th>\n",
              "      <th>WindDirection(Degrees)</th>\n",
              "      <th>Speed</th>\n",
              "      <th>MonthOfYear</th>\n",
              "      <th>DayOfYear</th>\n",
              "      <th>WeekOfYear</th>\n",
              "      <th>TimeOfDay(h)</th>\n",
              "      <th>TimeOfDay(m)</th>\n",
              "      <th>TimeOfDay(s)</th>\n",
              "      <th>DayLength(s)</th>\n",
              "    </tr>\n",
              "    <tr>\n",
              "      <th>UNIXTime</th>\n",
              "      <th></th>\n",
              "      <th></th>\n",
              "      <th></th>\n",
              "      <th></th>\n",
              "      <th></th>\n",
              "      <th></th>\n",
              "      <th></th>\n",
              "      <th></th>\n",
              "      <th></th>\n",
              "      <th></th>\n",
              "      <th></th>\n",
              "      <th></th>\n",
              "      <th></th>\n",
              "      <th></th>\n",
              "    </tr>\n",
              "  </thead>\n",
              "  <tbody>\n",
              "    <tr>\n",
              "      <th>2016-09-01 00:00:08-10:00</th>\n",
              "      <td>1472724008</td>\n",
              "      <td>2.58</td>\n",
              "      <td>51</td>\n",
              "      <td>30.43</td>\n",
              "      <td>103</td>\n",
              "      <td>77.27</td>\n",
              "      <td>11.25</td>\n",
              "      <td>9</td>\n",
              "      <td>245</td>\n",
              "      <td>35</td>\n",
              "      <td>0</td>\n",
              "      <td>0</td>\n",
              "      <td>8</td>\n",
              "      <td>45060</td>\n",
              "    </tr>\n",
              "    <tr>\n",
              "      <th>2016-09-01 00:05:10-10:00</th>\n",
              "      <td>1472724310</td>\n",
              "      <td>2.83</td>\n",
              "      <td>51</td>\n",
              "      <td>30.43</td>\n",
              "      <td>103</td>\n",
              "      <td>153.44</td>\n",
              "      <td>9.00</td>\n",
              "      <td>9</td>\n",
              "      <td>245</td>\n",
              "      <td>35</td>\n",
              "      <td>0</td>\n",
              "      <td>5</td>\n",
              "      <td>310</td>\n",
              "      <td>45060</td>\n",
              "    </tr>\n",
              "    <tr>\n",
              "      <th>2016-09-01 00:20:06-10:00</th>\n",
              "      <td>1472725206</td>\n",
              "      <td>2.16</td>\n",
              "      <td>51</td>\n",
              "      <td>30.43</td>\n",
              "      <td>103</td>\n",
              "      <td>142.04</td>\n",
              "      <td>7.87</td>\n",
              "      <td>9</td>\n",
              "      <td>245</td>\n",
              "      <td>35</td>\n",
              "      <td>0</td>\n",
              "      <td>20</td>\n",
              "      <td>1206</td>\n",
              "      <td>45060</td>\n",
              "    </tr>\n",
              "    <tr>\n",
              "      <th>2016-09-01 00:25:05-10:00</th>\n",
              "      <td>1472725505</td>\n",
              "      <td>2.21</td>\n",
              "      <td>51</td>\n",
              "      <td>30.43</td>\n",
              "      <td>103</td>\n",
              "      <td>144.12</td>\n",
              "      <td>18.00</td>\n",
              "      <td>9</td>\n",
              "      <td>245</td>\n",
              "      <td>35</td>\n",
              "      <td>0</td>\n",
              "      <td>25</td>\n",
              "      <td>1505</td>\n",
              "      <td>45060</td>\n",
              "    </tr>\n",
              "    <tr>\n",
              "      <th>2016-09-01 00:30:09-10:00</th>\n",
              "      <td>1472725809</td>\n",
              "      <td>2.25</td>\n",
              "      <td>51</td>\n",
              "      <td>30.43</td>\n",
              "      <td>103</td>\n",
              "      <td>67.42</td>\n",
              "      <td>11.25</td>\n",
              "      <td>9</td>\n",
              "      <td>245</td>\n",
              "      <td>35</td>\n",
              "      <td>0</td>\n",
              "      <td>30</td>\n",
              "      <td>1809</td>\n",
              "      <td>45060</td>\n",
              "    </tr>\n",
              "  </tbody>\n",
              "</table>\n",
              "</div>"
            ],
            "text/plain": [
              "                             UNIXTime  Radiation  ...  TimeOfDay(s)  DayLength(s)\n",
              "UNIXTime                                          ...                            \n",
              "2016-09-01 00:00:08-10:00  1472724008       2.58  ...             8         45060\n",
              "2016-09-01 00:05:10-10:00  1472724310       2.83  ...           310         45060\n",
              "2016-09-01 00:20:06-10:00  1472725206       2.16  ...          1206         45060\n",
              "2016-09-01 00:25:05-10:00  1472725505       2.21  ...          1505         45060\n",
              "2016-09-01 00:30:09-10:00  1472725809       2.25  ...          1809         45060\n",
              "\n",
              "[5 rows x 14 columns]"
            ]
          },
          "metadata": {
            "tags": []
          },
          "execution_count": 20
        }
      ]
    },
    {
      "cell_type": "code",
      "metadata": {
        "id": "mVjuCkFbq20P",
        "colab_type": "code",
        "outputId": "3f924ea4-90e3-4645-f1b7-aa7348a5a3c1",
        "colab": {
          "base_uri": "https://localhost:8080/",
          "height": 34
        }
      },
      "source": [
        "train_radiation = dataset['Radiation']\n",
        "df = train_radiation\n",
        "df.shape"
      ],
      "execution_count": 0,
      "outputs": [
        {
          "output_type": "execute_result",
          "data": {
            "text/plain": [
              "(32686,)"
            ]
          },
          "metadata": {
            "tags": []
          },
          "execution_count": 48
        }
      ]
    },
    {
      "cell_type": "code",
      "metadata": {
        "id": "K5bMnYg3V4TE",
        "colab_type": "code",
        "colab": {}
      },
      "source": [
        "train_radiation.head()"
      ],
      "execution_count": 0,
      "outputs": []
    },
    {
      "cell_type": "code",
      "metadata": {
        "id": "OAaMhh_LgLeq",
        "colab_type": "code",
        "colab": {}
      },
      "source": [
        "# LSTM Network for Regression\n",
        "#Output = do_lstm_model(train_radiation, \n",
        "             'Radiation',\n",
        "              50,\n",
        "              1, \n",
        "              0.70)"
      ],
      "execution_count": 0,
      "outputs": []
    },
    {
      "cell_type": "code",
      "metadata": {
        "id": "mkfZN0BGHA2t",
        "colab_type": "code",
        "outputId": "f6bf8af1-fa89-40dd-a060-bfc83463abfe",
        "colab": {
          "base_uri": "https://localhost:8080/",
          "height": 494
        }
      },
      "source": [
        "import math\n",
        "from tensorflow.python.keras.layers import Dense\n",
        "from tensorflow.python.keras import Sequential\n",
        "from tensorflow.python.keras.layers import LSTM\n",
        "from sklearn.preprocessing import MinMaxScaler\n",
        "from sklearn.metrics import mean_squared_error\n",
        "\n",
        "\n",
        "#ts = 'Radiation'\n",
        "epochs = 50\n",
        "look_back = 1\n",
        "train_fraction = 0.67\n",
        "\n",
        "  # Convert an array of values into a dataset matrix\n",
        "def create_dataset(dataset, look_back=1):\n",
        "    \"\"\"\n",
        "    Create the dataset\n",
        "    \"\"\"\n",
        "    dataX = []\n",
        "    dataY = []\n",
        "    for i in range(len(dataset)-look_back-1):\n",
        "      a = dataset[i:(i+look_back), 0]\n",
        "      dataX.append(a)\n",
        "      dataY.append(dataset[i + look_back, 0])\n",
        "    return np.array(dataX), np.array(dataY)\n",
        "\n",
        "  # Fix random seed for reproducibility\n",
        "np.random.seed(7)\n",
        "\n",
        "  # Get dataset\n",
        "dataset = df.values\n",
        "dataset = dataset.astype('float32')\n",
        "\n",
        "  # Normalize the dataset\n",
        "scaler = MinMaxScaler(feature_range=(0, 1))\n",
        "dataset = scaler.fit_transform(dataset.reshape(-1, 1))\n",
        "  \n",
        "  # Split into train and test sets\n",
        "train_size = int(len(dataset) * train_fraction)\n",
        "test_size = len(dataset) - train_size\n",
        "train, test = dataset[0:train_size,:], dataset[train_size:len(dataset),:]\n",
        "  \n",
        "  # Reshape into X=t and Y=t+1\n",
        "look_back = look_back\n",
        "trainX, trainY = create_dataset(train, look_back)\n",
        "testX, testY = create_dataset(test, look_back)\n",
        "  \n",
        "type_ = 'b'\n",
        "\n",
        "  # Reshape input to be [samples, time steps, features]\n",
        "if type_ == 'a':\n",
        "  trainX = np.reshape(trainX, (trainX.shape[0], trainX.shape[1], 1))\n",
        "  testX = np.reshape(testX, (testX.shape[0], testX.shape[1], 1))\n",
        "elif type_ == 'c':\n",
        "  trainX = np.reshape(trainX, (trainX.shape[0], trainX.shape[1], 1))\n",
        "  testX = np.reshape(testX, (testX.shape[0], testX.shape[1], 1))\n",
        "else:\n",
        "  trainX = np.reshape(trainX, (trainX.shape[0], 1, trainX.shape[1]))\n",
        "  testX = np.reshape(testX, (testX.shape[0], 1, testX.shape[1]))\n",
        "  \n",
        "  # Create and fit the LSTM network\n",
        "batch_size = 1\n",
        "model = Sequential()\n",
        "  \n",
        "if type_ == 'a':\n",
        "  model.add(LSTM(4, input_shape=(look_back, 1)))\n",
        "elif type_ == 'b':\n",
        "  model.add(LSTM(4, batch_input_shape=(batch_size, look_back, 1), stateful=True))\n",
        "elif type_ == 'c':\n",
        "  model.add(LSTM(4, batch_input_shape=(batch_size, look_back, 1), stateful=True, return_sequences=True))\n",
        "  model.add(LSTM(4, batch_input_shape=(batch_size, look_back, 1), stateful=True))\n",
        "else:\n",
        "  model.add(LSTM(4, input_shape=(1, look_back)))\n",
        "  \n",
        "model.add(Dense(1))\n",
        "model.compile(loss='mean_squared_error', optimizer='adam')\n",
        "\n",
        "if type_ == 'b' or type_ == 'c':\n",
        "  for i in range(5):\n",
        "    model.fit(trainX, trainY, epochs=1, batch_size=batch_size, verbose=2, shuffle=False)\n",
        "    model.reset_states()\n",
        "else:\n",
        "  model.fit(trainX, \n",
        "              trainY, \n",
        "              epochs = epochs, \n",
        "              batch_size = 1, \n",
        "              verbose = 2)\n",
        "  \n",
        "  # Make predictions\n",
        "if type_ == 'b' or type_ == 'c':\n",
        "  trainPredict = model.predict(trainX, batch_size=batch_size)\n",
        "  testPredict = model.predict(testX, batch_size=batch_size)\n",
        "else:\n",
        "  trainPredict = model.predict(trainX)\n",
        "  testPredict = model.predict(testX)\n",
        "  \n",
        "  # Invert predictions\n",
        "trainPredict = scaler.inverse_transform(trainPredict)\n",
        "trainY = scaler.inverse_transform([trainY])\n",
        "testPredict = scaler.inverse_transform(testPredict)\n",
        "testY = scaler.inverse_transform([testY])\n",
        "  \n",
        "  # Calculate root mean squared error\n",
        "trainScore = math.sqrt(mean_squared_error(trainY[0], trainPredict[:,0]))\n",
        "print('Train Score: %.2f RMSE' % (trainScore))\n",
        "testScore = math.sqrt(mean_squared_error(testY[0], testPredict[:,0]))\n",
        "print('Test Score: %.2f RMSE' % (testScore))\n",
        "  \n",
        "  # Shift train predictions for plotting\n",
        "trainPredictPlot = np.empty_like(dataset)\n",
        "trainPredictPlot[:, :] = np.nan\n",
        "trainPredictPlot[look_back:len(trainPredict)+look_back, :] = trainPredict\n",
        "  \n",
        "  # Shift test predictions for plotting\n",
        "testPredictPlot = np.empty_like(dataset)\n",
        "testPredictPlot[:, :] = np.nan\n",
        "testPredictPlot[len(trainPredict)+(look_back*2)+1:len(dataset)-1, :] = testPredict\n",
        "  \n",
        "  # Plot baseline and predictions\n",
        "plt.plot(scaler.inverse_transform(dataset))\n",
        "plt.plot(trainPredictPlot)\n",
        "plt.plot(testPredictPlot)\n",
        "plt.show()\n",
        "plt.close()\n",
        "  "
      ],
      "execution_count": 59,
      "outputs": [
        {
          "output_type": "stream",
          "text": [
            "Train on 21897 samples\n",
            "21897/21897 - 53s - loss: 0.0038\n",
            "Train on 21897 samples\n",
            "21897/21897 - 50s - loss: 0.0033\n",
            "Train on 21897 samples\n",
            "21897/21897 - 50s - loss: 0.0032\n",
            "Train on 21897 samples\n",
            "21897/21897 - 50s - loss: 0.0032\n",
            "Train on 21897 samples\n",
            "21897/21897 - 50s - loss: 0.0031\n",
            "Train Score: 105.27 RMSE\n",
            "Test Score: 74.26 RMSE\n"
          ],
          "name": "stdout"
        },
        {
          "output_type": "display_data",
          "data": {
            "image/png": "[encoded data removed]",
            "text/plain": [
              "<Figure size 432x288 with 1 Axes>"
            ]
          },
          "metadata": {
            "tags": []
          }
        }
      ]
    }
  ]
}